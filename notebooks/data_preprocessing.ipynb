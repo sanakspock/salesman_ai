{
 "cells": [
  {
   "cell_type": "code",
   "execution_count": 1,
   "id": "58648e3f-7186-4cdf-9c1a-a751c8550d8a",
   "metadata": {
    "execution": {
     "iopub.execute_input": "2023-11-02T15:32:12.431873Z",
     "iopub.status.busy": "2023-11-02T15:32:12.431571Z",
     "iopub.status.idle": "2023-11-02T15:32:12.437702Z",
     "shell.execute_reply": "2023-11-02T15:32:12.437068Z",
     "shell.execute_reply.started": "2023-11-02T15:32:12.431848Z"
    }
   },
   "outputs": [],
   "source": [
    "import warnings\n",
    "warnings.filterwarnings('ignore')"
   ]
  },
  {
   "cell_type": "markdown",
   "id": "94017065-d4ed-49fb-8266-450469254db5",
   "metadata": {},
   "source": [
    "# importing libaries\n"
   ]
  },
  {
   "cell_type": "code",
   "execution_count": 3,
   "id": "fa5c5bb1-3e17-4cbd-8704-29cb00d6057a",
   "metadata": {
    "execution": {
     "iopub.execute_input": "2023-11-02T15:32:48.257076Z",
     "iopub.status.busy": "2023-11-02T15:32:48.256707Z",
     "iopub.status.idle": "2023-11-02T15:32:48.260341Z",
     "shell.execute_reply": "2023-11-02T15:32:48.259719Z",
     "shell.execute_reply.started": "2023-11-02T15:32:48.257054Z"
    }
   },
   "outputs": [],
   "source": [
    "from datasets import load_dataset\n",
    "import pandas as pd\n",
    "from pprint import pprint"
   ]
  },
  {
   "cell_type": "markdown",
   "id": "0b3808e7-e134-4cb9-8de6-e00b35a91e72",
   "metadata": {},
   "source": [
    "# loading dataset"
   ]
  },
  {
   "cell_type": "code",
   "execution_count": 4,
   "id": "22aff0ef-a52d-4167-9693-32061af19a86",
   "metadata": {
    "execution": {
     "iopub.execute_input": "2023-11-02T15:32:51.392542Z",
     "iopub.status.busy": "2023-11-02T15:32:51.392277Z",
     "iopub.status.idle": "2023-11-02T15:32:56.746989Z",
     "shell.execute_reply": "2023-11-02T15:32:56.746256Z",
     "shell.execute_reply.started": "2023-11-02T15:32:51.392523Z"
    }
   },
   "outputs": [
    {
     "data": {
      "application/vnd.jupyter.widget-view+json": {
       "model_id": "90c7f1115d394e098d4222acb43f87ee",
       "version_major": 2,
       "version_minor": 0
      },
      "text/plain": [
       "Downloading builder script:   0%|          | 0.00/2.86k [00:00<?, ?B/s]"
      ]
     },
     "metadata": {},
     "output_type": "display_data"
    },
    {
     "data": {
      "application/vnd.jupyter.widget-view+json": {
       "model_id": "938acb973b5542dd865885bbaee0ee1a",
       "version_major": 2,
       "version_minor": 0
      },
      "text/plain": [
       "Downloading metadata:   0%|          | 0.00/1.23k [00:00<?, ?B/s]"
      ]
     },
     "metadata": {},
     "output_type": "display_data"
    },
    {
     "name": "stderr",
     "output_type": "stream",
     "text": [
      "Using custom data configuration default\n"
     ]
    },
    {
     "name": "stdout",
     "output_type": "stream",
     "text": [
      "Downloading and preparing dataset craigslist_bargains/default (download: 24.20 MiB, generated: 10.36 MiB, post-processed: Unknown size, total: 34.55 MiB) to /root/.cache/huggingface/datasets/craigslist_bargains/default/1.1.0/9e4e64d13ea36e435a8f56f9305d3c771115909b7fe83269bf7cd8dd40302338...\n"
     ]
    },
    {
     "data": {
      "application/vnd.jupyter.widget-view+json": {
       "model_id": "063d99017c9045f98ce2bf5596724e60",
       "version_major": 2,
       "version_minor": 0
      },
      "text/plain": [
       "Downloading data files:   0%|          | 0/3 [00:00<?, ?it/s]"
      ]
     },
     "metadata": {},
     "output_type": "display_data"
    },
    {
     "data": {
      "application/vnd.jupyter.widget-view+json": {
       "model_id": "64028ced18bc4fbe9025b05238c284db",
       "version_major": 2,
       "version_minor": 0
      },
      "text/plain": [
       "Downloading data: 0.00B [00:00, ?B/s]"
      ]
     },
     "metadata": {},
     "output_type": "display_data"
    },
    {
     "data": {
      "application/vnd.jupyter.widget-view+json": {
       "model_id": "eaa4a777a20341df9e97254f19124058",
       "version_major": 2,
       "version_minor": 0
      },
      "text/plain": [
       "Downloading data: 0.00B [00:00, ?B/s]"
      ]
     },
     "metadata": {},
     "output_type": "display_data"
    },
    {
     "data": {
      "application/vnd.jupyter.widget-view+json": {
       "model_id": "009271e29e514a0ea464382a9346415c",
       "version_major": 2,
       "version_minor": 0
      },
      "text/plain": [
       "Downloading data: 0.00B [00:00, ?B/s]"
      ]
     },
     "metadata": {},
     "output_type": "display_data"
    },
    {
     "data": {
      "application/vnd.jupyter.widget-view+json": {
       "model_id": "cb7a633a2db34f359bb41c1f2f20e528",
       "version_major": 2,
       "version_minor": 0
      },
      "text/plain": [
       "Extracting data files:   0%|          | 0/3 [00:00<?, ?it/s]"
      ]
     },
     "metadata": {},
     "output_type": "display_data"
    },
    {
     "data": {
      "application/vnd.jupyter.widget-view+json": {
       "model_id": "2190fbcfcf144c659639944095b88955",
       "version_major": 2,
       "version_minor": 0
      },
      "text/plain": [
       "Generating train split:   0%|          | 0/5247 [00:00<?, ? examples/s]"
      ]
     },
     "metadata": {},
     "output_type": "display_data"
    },
    {
     "data": {
      "application/vnd.jupyter.widget-view+json": {
       "model_id": "888e8da582aa4f19b4d11b6c1febefeb",
       "version_major": 2,
       "version_minor": 0
      },
      "text/plain": [
       "Generating test split:   0%|          | 0/838 [00:00<?, ? examples/s]"
      ]
     },
     "metadata": {},
     "output_type": "display_data"
    },
    {
     "data": {
      "application/vnd.jupyter.widget-view+json": {
       "model_id": "ec98edba56994e4da3587d340838aca6",
       "version_major": 2,
       "version_minor": 0
      },
      "text/plain": [
       "Generating validation split:   0%|          | 0/597 [00:00<?, ? examples/s]"
      ]
     },
     "metadata": {},
     "output_type": "display_data"
    },
    {
     "name": "stdout",
     "output_type": "stream",
     "text": [
      "Dataset craigslist_bargains downloaded and prepared to /root/.cache/huggingface/datasets/craigslist_bargains/default/1.1.0/9e4e64d13ea36e435a8f56f9305d3c771115909b7fe83269bf7cd8dd40302338. Subsequent calls will reuse this data.\n"
     ]
    }
   ],
   "source": [
    "dataset = load_dataset('craigslist_bargains', split=\"train\")"
   ]
  },
  {
   "cell_type": "markdown",
   "id": "973282f1-ac3a-4cca-bd48-37dbef044560",
   "metadata": {},
   "source": [
    "# creating prompt "
   ]
  },
  {
   "cell_type": "code",
   "execution_count": 5,
   "id": "28562409-04be-4db6-842d-db2266ea103c",
   "metadata": {
    "execution": {
     "iopub.execute_input": "2023-11-02T15:33:07.908876Z",
     "iopub.status.busy": "2023-11-02T15:33:07.908387Z",
     "iopub.status.idle": "2023-11-02T15:33:07.916698Z",
     "shell.execute_reply": "2023-11-02T15:33:07.916132Z",
     "shell.execute_reply.started": "2023-11-02T15:33:07.908854Z"
    }
   },
   "outputs": [
    {
     "data": {
      "text/plain": [
       "{'agent_info': {'Bottomline': ['None', 'None'],\n",
       "  'Role': ['buyer', 'seller'],\n",
       "  'Target': [7.0, 10.0]},\n",
       " 'agent_turn': [0, 1, 0, 1, 0, 1, 0, 0, 1],\n",
       " 'dialogue_acts': {'intent': ['init-price',\n",
       "   'unknown',\n",
       "   'insist',\n",
       "   'counter-price',\n",
       "   'counter-price',\n",
       "   'counter-price',\n",
       "   'agree',\n",
       "   'offer',\n",
       "   'accept'],\n",
       "  'price': [5.0, -1.0, 5.0, 8.0, 6.0, 7.0, 7.0, 7.0, -1.0]},\n",
       " 'utterance': ['Hi, not sure if the charger would work for my car. Can you sell it to me for $5?',\n",
       "  'It will work, i have never seen a car without a cigarette lighter port.\\\\',\n",
       "  \"Still, can I buy it for $5? I'm on a tight budge\",\n",
       "  'I think the lowest I would want to go is 8. ',\n",
       "  \"How about $6 and I pick it up myself? It'll save you shipping to me.\",\n",
       "  '7, and we have a deal.',\n",
       "  'Eh, fine. $7.',\n",
       "  '',\n",
       "  ''],\n",
       " 'items': {'Category': ['phone', 'phone'],\n",
       "  'Images': ['phone/6149527852_0.jpg', 'phone/6149527852_0.jpg'],\n",
       "  'Price': [10.0, 10.0],\n",
       "  'Description': ['Charge two devices simultaneously on the go. This vehicle charger with an additional USB port delivers enough power to charge two devices at once. The push-button activated LED connector light means no more fumbling in the dark trying to connect your device. Auto Detect IC Technology automatically detects the device type and its specific charging needs for improved compatibility. And the built-in indicator light illuminates red to let you know the charger is receiving power and the power socket is working properly.',\n",
       "   'Charge two devices simultaneously on the go. This vehicle charger with an additional USB port delivers enough power to charge two devices at once. The push-button activated LED connector light means no more fumbling in the dark trying to connect your device. Auto Detect IC Technology automatically detects the device type and its specific charging needs for improved compatibility. And the built-in indicator light illuminates red to let you know the charger is receiving power and the power socket is working properly.'],\n",
       "  'Title': ['Verizon Car Charger with Dual Output Micro USB and LED Light',\n",
       "   'Verizon Car Charger with Dual Output Micro USB and LED Light']}}"
      ]
     },
     "execution_count": 5,
     "metadata": {},
     "output_type": "execute_result"
    }
   ],
   "source": [
    "dataset[0]"
   ]
  },
  {
   "cell_type": "code",
   "execution_count": 6,
   "id": "98a03a95-7d35-4553-850e-8ef27a1ecd76",
   "metadata": {
    "execution": {
     "iopub.execute_input": "2023-11-02T15:33:16.190062Z",
     "iopub.status.busy": "2023-11-02T15:33:16.189796Z",
     "iopub.status.idle": "2023-11-02T15:33:16.195117Z",
     "shell.execute_reply": "2023-11-02T15:33:16.194487Z",
     "shell.execute_reply.started": "2023-11-02T15:33:16.190043Z"
    },
    "id": "w3Ip8UdHd_es"
   },
   "outputs": [],
   "source": [
    "def create_prompt_dict(data):\n",
    "    # Extract data\n",
    "    agent_info = data['agent_info']\n",
    "    agent_turn = data['agent_turn']\n",
    "    dialogue_acts = data['dialogue_acts']\n",
    "    utterances = data['utterance']\n",
    "    items = data['items']\n",
    "\n",
    "\n",
    "\n",
    "    # Additional information\n",
    "    agent_role = ['buyer' if turn == 0 else 'seller' for turn in agent_turn]\n",
    "    agent_target = agent_info['Target']\n",
    "    dialogue_intent = dialogue_acts['intent']\n",
    "    dialogue_price = dialogue_acts['price']\n",
    "    item_category = items['Category'][0]\n",
    "    item_images = items['Images']\n",
    "    item_price = items['Price'][0]\n",
    "    item_description = items['Description']\n",
    "    item_title = items['Title']\n",
    "\n",
    "    # Construct the full prompt in dictionary format\n",
    "    full_prompt_dict = {\n",
    "        \"Title\": item_title,\n",
    "        \"Category\": item_category,\n",
    "        \"Price\": item_price,\n",
    "        \"Target\": agent_target,\n",
    "        \"Description\": item_description,\n",
    "        \"Turn\": agent_turn,\n",
    "        \"Conversation\": utterances,\n",
    "        \n",
    "\n",
    "    }\n",
    "\n",
    "    return full_prompt_dict\n",
    "\n"
   ]
  },
  {
   "cell_type": "code",
   "execution_count": 7,
   "id": "140ca38a-1da3-4a8e-8e1c-0c2bbaa37d42",
   "metadata": {
    "execution": {
     "iopub.execute_input": "2023-11-02T15:33:20.993234Z",
     "iopub.status.busy": "2023-11-02T15:33:20.992957Z",
     "iopub.status.idle": "2023-11-02T15:33:21.728507Z",
     "shell.execute_reply": "2023-11-02T15:33:21.727783Z",
     "shell.execute_reply.started": "2023-11-02T15:33:20.993213Z"
    }
   },
   "outputs": [],
   "source": [
    "formatted_prompts = list(map(create_prompt_dict, dataset))"
   ]
  },
  {
   "cell_type": "code",
   "execution_count": 8,
   "id": "35be9e66-a979-4839-91ee-79c2aa964b22",
   "metadata": {
    "execution": {
     "iopub.execute_input": "2023-11-02T15:33:22.269563Z",
     "iopub.status.busy": "2023-11-02T15:33:22.268746Z",
     "iopub.status.idle": "2023-11-02T15:33:22.274188Z",
     "shell.execute_reply": "2023-11-02T15:33:22.273573Z",
     "shell.execute_reply.started": "2023-11-02T15:33:22.269537Z"
    }
   },
   "outputs": [
    {
     "name": "stdout",
     "output_type": "stream",
     "text": [
      "{'Category': 'furniture',\n",
      " 'Conversation': ['Hi, $15 sound good?',\n",
      "                  'Can you come down a little more?  The condition is only '\n",
      "                  'average.',\n",
      "                  'Alright, $14?',\n",
      "                  'Actually I was looking for something closer to $10.',\n",
      "                  'Sounds good. $10 is fine.',\n",
      "                  '',\n",
      "                  ''],\n",
      " 'Description': ['Still sturdy and good, average condition. Some small tear on '\n",
      "                 'some by being placed against wall, but doesnt show much',\n",
      "                 'Still sturdy and good, average condition. Some small tear on '\n",
      "                 'some by being placed against wall, but doesnt show '\n",
      "                 'much,Great For waiting room, client chairs etc.'],\n",
      " 'Price': 18.0,\n",
      " 'Target': [10.0, 18.0],\n",
      " 'Title': ['Office Client Waiting Room CHAIRS',\n",
      "           'Office Client Waiting Room CHAIRS'],\n",
      " 'Turn': [1, 0, 1, 0, 1, 1, 0]}\n"
     ]
    }
   ],
   "source": [
    "pprint(formatted_prompts[5])\n"
   ]
  },
  {
   "cell_type": "code",
   "execution_count": 9,
   "id": "b3574904-01f3-4e8b-9c24-bda3fb523334",
   "metadata": {
    "execution": {
     "iopub.execute_input": "2023-11-02T15:33:31.791930Z",
     "iopub.status.busy": "2023-11-02T15:33:31.791646Z",
     "iopub.status.idle": "2023-11-02T15:33:31.818006Z",
     "shell.execute_reply": "2023-11-02T15:33:31.817284Z",
     "shell.execute_reply.started": "2023-11-02T15:33:31.791911Z"
    }
   },
   "outputs": [
    {
     "data": {
      "text/html": [
       "<div>\n",
       "<style scoped>\n",
       "    .dataframe tbody tr th:only-of-type {\n",
       "        vertical-align: middle;\n",
       "    }\n",
       "\n",
       "    .dataframe tbody tr th {\n",
       "        vertical-align: top;\n",
       "    }\n",
       "\n",
       "    .dataframe thead th {\n",
       "        text-align: right;\n",
       "    }\n",
       "</style>\n",
       "<table border=\"1\" class=\"dataframe\">\n",
       "  <thead>\n",
       "    <tr style=\"text-align: right;\">\n",
       "      <th></th>\n",
       "      <th>Title</th>\n",
       "      <th>Category</th>\n",
       "      <th>Price</th>\n",
       "      <th>Target</th>\n",
       "      <th>Description</th>\n",
       "      <th>Turn</th>\n",
       "      <th>Conversation</th>\n",
       "    </tr>\n",
       "  </thead>\n",
       "  <tbody>\n",
       "    <tr>\n",
       "      <th>0</th>\n",
       "      <td>[Verizon Car Charger with Dual Output Micro US...</td>\n",
       "      <td>phone</td>\n",
       "      <td>10.0</td>\n",
       "      <td>[7.0, 10.0]</td>\n",
       "      <td>[Charge two devices simultaneously on the go. ...</td>\n",
       "      <td>[0, 1, 0, 1, 0, 1, 0, 0, 1]</td>\n",
       "      <td>[Hi, not sure if the charger would work for my...</td>\n",
       "    </tr>\n",
       "    <tr>\n",
       "      <th>1</th>\n",
       "      <td>[Long board custom bilt from the board up, Lon...</td>\n",
       "      <td>bike</td>\n",
       "      <td>200.0</td>\n",
       "      <td>[120.0, 200.0]</td>\n",
       "      <td>[Hey there cl I have a long board for sale pre...</td>\n",
       "      <td>[0, 1, 0, 1, 0, 1, 0, 1, 0, 1, 0, 0, 1]</td>\n",
       "      <td>[Hi,I am interested in your board!, Hi, do you...</td>\n",
       "    </tr>\n",
       "    <tr>\n",
       "      <th>2</th>\n",
       "      <td>[A 4 bedroom single family house for rent in c...</td>\n",
       "      <td>housing</td>\n",
       "      <td>3200.0</td>\n",
       "      <td>[1920.0, 3200.0]</td>\n",
       "      <td>[This is a single family house in an excellent...</td>\n",
       "      <td>[0, 1, 0, 1, 0, 1, 1, 0, 1, 0]</td>\n",
       "      <td>[i would love to buy , Sure! What's your price...</td>\n",
       "    </tr>\n",
       "    <tr>\n",
       "      <th>3</th>\n",
       "      <td>[Sectional Couch, Sectional Couch]</td>\n",
       "      <td>furniture</td>\n",
       "      <td>585.0</td>\n",
       "      <td>[444.0, 585.0]</td>\n",
       "      <td>[I am remodeling my space and selling a beauti...</td>\n",
       "      <td>[0, 1, 0, 1, 0, 1]</td>\n",
       "      <td>[hello, Hi, How old is the couch?, It is pract...</td>\n",
       "    </tr>\n",
       "    <tr>\n",
       "      <th>4</th>\n",
       "      <td>[Beautiful Cherry Hutch, Beautiful Cherry Hutch]</td>\n",
       "      <td>furniture</td>\n",
       "      <td>1000.0</td>\n",
       "      <td>[600.0, 1000.0]</td>\n",
       "      <td>[MUST SEE!!!,Like new ! - making space in our ...</td>\n",
       "      <td>[0, 1, 1, 1]</td>\n",
       "      <td>[500, that is a lot lower then i am willing to...</td>\n",
       "    </tr>\n",
       "  </tbody>\n",
       "</table>\n",
       "</div>"
      ],
      "text/plain": [
       "                                               Title   Category   Price  \\\n",
       "0  [Verizon Car Charger with Dual Output Micro US...      phone    10.0   \n",
       "1  [Long board custom bilt from the board up, Lon...       bike   200.0   \n",
       "2  [A 4 bedroom single family house for rent in c...    housing  3200.0   \n",
       "3                 [Sectional Couch, Sectional Couch]  furniture   585.0   \n",
       "4   [Beautiful Cherry Hutch, Beautiful Cherry Hutch]  furniture  1000.0   \n",
       "\n",
       "             Target                                        Description  \\\n",
       "0       [7.0, 10.0]  [Charge two devices simultaneously on the go. ...   \n",
       "1    [120.0, 200.0]  [Hey there cl I have a long board for sale pre...   \n",
       "2  [1920.0, 3200.0]  [This is a single family house in an excellent...   \n",
       "3    [444.0, 585.0]  [I am remodeling my space and selling a beauti...   \n",
       "4   [600.0, 1000.0]  [MUST SEE!!!,Like new ! - making space in our ...   \n",
       "\n",
       "                                      Turn  \\\n",
       "0              [0, 1, 0, 1, 0, 1, 0, 0, 1]   \n",
       "1  [0, 1, 0, 1, 0, 1, 0, 1, 0, 1, 0, 0, 1]   \n",
       "2           [0, 1, 0, 1, 0, 1, 1, 0, 1, 0]   \n",
       "3                       [0, 1, 0, 1, 0, 1]   \n",
       "4                             [0, 1, 1, 1]   \n",
       "\n",
       "                                        Conversation  \n",
       "0  [Hi, not sure if the charger would work for my...  \n",
       "1  [Hi,I am interested in your board!, Hi, do you...  \n",
       "2  [i would love to buy , Sure! What's your price...  \n",
       "3  [hello, Hi, How old is the couch?, It is pract...  \n",
       "4  [500, that is a lot lower then i am willing to...  "
      ]
     },
     "execution_count": 9,
     "metadata": {},
     "output_type": "execute_result"
    }
   ],
   "source": [
    "dataframe  = pd.DataFrame(formatted_prompts)\n",
    "dataframe.head()"
   ]
  },
  {
   "cell_type": "code",
   "execution_count": 10,
   "id": "80baba5c-2a7b-4e53-8c69-4e4db42bc9d3",
   "metadata": {
    "execution": {
     "iopub.execute_input": "2023-11-02T15:33:37.369580Z",
     "iopub.status.busy": "2023-11-02T15:33:37.369304Z",
     "iopub.status.idle": "2023-11-02T15:33:37.374244Z",
     "shell.execute_reply": "2023-11-02T15:33:37.373473Z",
     "shell.execute_reply.started": "2023-11-02T15:33:37.369560Z"
    }
   },
   "outputs": [
    {
     "data": {
      "text/plain": [
       "'Hi, not sure if the charger would work for my car. Can you sell it to me for $5?'"
      ]
     },
     "execution_count": 10,
     "metadata": {},
     "output_type": "execute_result"
    }
   ],
   "source": [
    "dataframe['Conversation'][0][0]"
   ]
  },
  {
   "cell_type": "code",
   "execution_count": 11,
   "id": "035107f3-5625-4dc5-9a86-152d6e4b6983",
   "metadata": {
    "execution": {
     "iopub.execute_input": "2023-11-02T15:33:46.302557Z",
     "iopub.status.busy": "2023-11-02T15:33:46.302286Z",
     "iopub.status.idle": "2023-11-02T15:33:46.307711Z",
     "shell.execute_reply": "2023-11-02T15:33:46.307154Z",
     "shell.execute_reply.started": "2023-11-02T15:33:46.302537Z"
    }
   },
   "outputs": [],
   "source": [
    "def group_and_concatenate(row):\n",
    "    grouped_binary = []\n",
    "    grouped_sentences = []\n",
    "\n",
    "    current_binary = None\n",
    "    current_sentences = []\n",
    "\n",
    "    for binary, sentence in zip(row['Turn'], row['Conversation']):\n",
    "        if current_binary is None:\n",
    "            current_binary = binary\n",
    "            current_sentences.append(sentence)\n",
    "        elif current_binary == binary:\n",
    "            current_sentences.append(sentence)\n",
    "        else:\n",
    "            grouped_binary.append(current_binary)\n",
    "            grouped_sentences.append(\" \".join(current_sentences))\n",
    "            current_binary = binary\n",
    "            current_sentences = [sentence]\n",
    "\n",
    "    # Append the last group if it exists\n",
    "    if current_binary is not None:\n",
    "        grouped_binary.append(current_binary)\n",
    "        grouped_sentences.append(\" \".join(current_sentences))\n",
    "\n",
    "    return pd.Series({'Grouped_Binary': grouped_binary, 'Concatenated_Sentences': grouped_sentences})\n",
    "\n",
    "# Sample data\n",
    "binary_list = [1, 0, 1, 1, 0, 1]\n",
    "sentences_list = [\"Sentence 1\", \"Sentence 2\", \"Sentence 3\", \"Sentence 4\", \"Sentence 5\", \"Sentence 6\"]\n",
    "\n"
   ]
  },
  {
   "cell_type": "code",
   "execution_count": 12,
   "id": "fb978f85-82fb-44aa-9e78-7086ce312a91",
   "metadata": {
    "execution": {
     "iopub.execute_input": "2023-11-02T15:34:00.895350Z",
     "iopub.status.busy": "2023-11-02T15:34:00.895066Z",
     "iopub.status.idle": "2023-11-02T15:34:01.997685Z",
     "shell.execute_reply": "2023-11-02T15:34:01.997118Z",
     "shell.execute_reply.started": "2023-11-02T15:34:00.895329Z"
    }
   },
   "outputs": [
    {
     "data": {
      "text/html": [
       "<div>\n",
       "<style scoped>\n",
       "    .dataframe tbody tr th:only-of-type {\n",
       "        vertical-align: middle;\n",
       "    }\n",
       "\n",
       "    .dataframe tbody tr th {\n",
       "        vertical-align: top;\n",
       "    }\n",
       "\n",
       "    .dataframe thead th {\n",
       "        text-align: right;\n",
       "    }\n",
       "</style>\n",
       "<table border=\"1\" class=\"dataframe\">\n",
       "  <thead>\n",
       "    <tr style=\"text-align: right;\">\n",
       "      <th></th>\n",
       "      <th>Title</th>\n",
       "      <th>Category</th>\n",
       "      <th>Price</th>\n",
       "      <th>Target</th>\n",
       "      <th>Description</th>\n",
       "      <th>Turn</th>\n",
       "      <th>Conversation</th>\n",
       "    </tr>\n",
       "  </thead>\n",
       "  <tbody>\n",
       "    <tr>\n",
       "      <th>0</th>\n",
       "      <td>[Verizon Car Charger with Dual Output Micro US...</td>\n",
       "      <td>phone</td>\n",
       "      <td>10.0</td>\n",
       "      <td>[7.0, 10.0]</td>\n",
       "      <td>[Charge two devices simultaneously on the go. ...</td>\n",
       "      <td>[0, 1, 0, 1, 0, 1, 0, 1]</td>\n",
       "      <td>[Hi, not sure if the charger would work for my...</td>\n",
       "    </tr>\n",
       "    <tr>\n",
       "      <th>1</th>\n",
       "      <td>[Long board custom bilt from the board up, Lon...</td>\n",
       "      <td>bike</td>\n",
       "      <td>200.0</td>\n",
       "      <td>[120.0, 200.0]</td>\n",
       "      <td>[Hey there cl I have a long board for sale pre...</td>\n",
       "      <td>[0, 1, 0, 1, 0, 1, 0, 1, 0, 1, 0, 1]</td>\n",
       "      <td>[Hi,I am interested in your board!, Hi, do you...</td>\n",
       "    </tr>\n",
       "    <tr>\n",
       "      <th>2</th>\n",
       "      <td>[A 4 bedroom single family house for rent in c...</td>\n",
       "      <td>housing</td>\n",
       "      <td>3200.0</td>\n",
       "      <td>[1920.0, 3200.0]</td>\n",
       "      <td>[This is a single family house in an excellent...</td>\n",
       "      <td>[0, 1, 0, 1, 0, 1, 0, 1, 0]</td>\n",
       "      <td>[i would love to buy , Sure! What's your price...</td>\n",
       "    </tr>\n",
       "    <tr>\n",
       "      <th>3</th>\n",
       "      <td>[Sectional Couch, Sectional Couch]</td>\n",
       "      <td>furniture</td>\n",
       "      <td>585.0</td>\n",
       "      <td>[444.0, 585.0]</td>\n",
       "      <td>[I am remodeling my space and selling a beauti...</td>\n",
       "      <td>[0, 1, 0, 1, 0, 1]</td>\n",
       "      <td>[hello, Hi, How old is the couch?, It is pract...</td>\n",
       "    </tr>\n",
       "    <tr>\n",
       "      <th>4</th>\n",
       "      <td>[Beautiful Cherry Hutch, Beautiful Cherry Hutch]</td>\n",
       "      <td>furniture</td>\n",
       "      <td>1000.0</td>\n",
       "      <td>[600.0, 1000.0]</td>\n",
       "      <td>[MUST SEE!!!,Like new ! - making space in our ...</td>\n",
       "      <td>[0, 1]</td>\n",
       "      <td>[500, that is a lot lower then i am willing to...</td>\n",
       "    </tr>\n",
       "  </tbody>\n",
       "</table>\n",
       "</div>"
      ],
      "text/plain": [
       "                                               Title   Category   Price  \\\n",
       "0  [Verizon Car Charger with Dual Output Micro US...      phone    10.0   \n",
       "1  [Long board custom bilt from the board up, Lon...       bike   200.0   \n",
       "2  [A 4 bedroom single family house for rent in c...    housing  3200.0   \n",
       "3                 [Sectional Couch, Sectional Couch]  furniture   585.0   \n",
       "4   [Beautiful Cherry Hutch, Beautiful Cherry Hutch]  furniture  1000.0   \n",
       "\n",
       "             Target                                        Description  \\\n",
       "0       [7.0, 10.0]  [Charge two devices simultaneously on the go. ...   \n",
       "1    [120.0, 200.0]  [Hey there cl I have a long board for sale pre...   \n",
       "2  [1920.0, 3200.0]  [This is a single family house in an excellent...   \n",
       "3    [444.0, 585.0]  [I am remodeling my space and selling a beauti...   \n",
       "4   [600.0, 1000.0]  [MUST SEE!!!,Like new ! - making space in our ...   \n",
       "\n",
       "                                   Turn  \\\n",
       "0              [0, 1, 0, 1, 0, 1, 0, 1]   \n",
       "1  [0, 1, 0, 1, 0, 1, 0, 1, 0, 1, 0, 1]   \n",
       "2           [0, 1, 0, 1, 0, 1, 0, 1, 0]   \n",
       "3                    [0, 1, 0, 1, 0, 1]   \n",
       "4                                [0, 1]   \n",
       "\n",
       "                                        Conversation  \n",
       "0  [Hi, not sure if the charger would work for my...  \n",
       "1  [Hi,I am interested in your board!, Hi, do you...  \n",
       "2  [i would love to buy , Sure! What's your price...  \n",
       "3  [hello, Hi, How old is the couch?, It is pract...  \n",
       "4  [500, that is a lot lower then i am willing to...  "
      ]
     },
     "execution_count": 12,
     "metadata": {},
     "output_type": "execute_result"
    }
   ],
   "source": [
    "dataframe[['Turn', 'Conversation']] = dataframe.apply(group_and_concatenate, axis=1)\n",
    "dataframe.head()"
   ]
  },
  {
   "cell_type": "code",
   "execution_count": 13,
   "id": "ca5903a2-8dcf-4118-a1d7-0bc25da00caa",
   "metadata": {
    "execution": {
     "iopub.execute_input": "2023-11-02T15:34:30.240159Z",
     "iopub.status.busy": "2023-11-02T15:34:30.239821Z",
     "iopub.status.idle": "2023-11-02T15:34:30.277759Z",
     "shell.execute_reply": "2023-11-02T15:34:30.277169Z",
     "shell.execute_reply.started": "2023-11-02T15:34:30.240136Z"
    }
   },
   "outputs": [
    {
     "data": {
      "text/html": [
       "<div>\n",
       "<style scoped>\n",
       "    .dataframe tbody tr th:only-of-type {\n",
       "        vertical-align: middle;\n",
       "    }\n",
       "\n",
       "    .dataframe tbody tr th {\n",
       "        vertical-align: top;\n",
       "    }\n",
       "\n",
       "    .dataframe thead th {\n",
       "        text-align: right;\n",
       "    }\n",
       "</style>\n",
       "<table border=\"1\" class=\"dataframe\">\n",
       "  <thead>\n",
       "    <tr style=\"text-align: right;\">\n",
       "      <th></th>\n",
       "      <th>Title</th>\n",
       "      <th>Category</th>\n",
       "      <th>Price</th>\n",
       "      <th>Target</th>\n",
       "      <th>Description</th>\n",
       "      <th>Turn</th>\n",
       "      <th>Conversation</th>\n",
       "      <th>is_seller</th>\n",
       "    </tr>\n",
       "  </thead>\n",
       "  <tbody>\n",
       "    <tr>\n",
       "      <th>0</th>\n",
       "      <td>[Verizon Car Charger with Dual Output Micro US...</td>\n",
       "      <td>phone</td>\n",
       "      <td>10.0</td>\n",
       "      <td>[7.0, 10.0]</td>\n",
       "      <td>[Charge two devices simultaneously on the go. ...</td>\n",
       "      <td>[0, 1, 0, 1, 0, 1, 0, 1]</td>\n",
       "      <td>[Hi, not sure if the charger would work for my...</td>\n",
       "      <td>False</td>\n",
       "    </tr>\n",
       "    <tr>\n",
       "      <th>1</th>\n",
       "      <td>[Long board custom bilt from the board up, Lon...</td>\n",
       "      <td>bike</td>\n",
       "      <td>200.0</td>\n",
       "      <td>[120.0, 200.0]</td>\n",
       "      <td>[Hey there cl I have a long board for sale pre...</td>\n",
       "      <td>[0, 1, 0, 1, 0, 1, 0, 1, 0, 1, 0, 1]</td>\n",
       "      <td>[Hi,I am interested in your board!, Hi, do you...</td>\n",
       "      <td>False</td>\n",
       "    </tr>\n",
       "    <tr>\n",
       "      <th>2</th>\n",
       "      <td>[A 4 bedroom single family house for rent in c...</td>\n",
       "      <td>housing</td>\n",
       "      <td>3200.0</td>\n",
       "      <td>[1920.0, 3200.0]</td>\n",
       "      <td>[This is a single family house in an excellent...</td>\n",
       "      <td>[0, 1, 0, 1, 0, 1, 0, 1, 0]</td>\n",
       "      <td>[i would love to buy , Sure! What's your price...</td>\n",
       "      <td>False</td>\n",
       "    </tr>\n",
       "    <tr>\n",
       "      <th>3</th>\n",
       "      <td>[Sectional Couch, Sectional Couch]</td>\n",
       "      <td>furniture</td>\n",
       "      <td>585.0</td>\n",
       "      <td>[444.0, 585.0]</td>\n",
       "      <td>[I am remodeling my space and selling a beauti...</td>\n",
       "      <td>[0, 1, 0, 1, 0, 1]</td>\n",
       "      <td>[hello, Hi, How old is the couch?, It is pract...</td>\n",
       "      <td>False</td>\n",
       "    </tr>\n",
       "    <tr>\n",
       "      <th>4</th>\n",
       "      <td>[Beautiful Cherry Hutch, Beautiful Cherry Hutch]</td>\n",
       "      <td>furniture</td>\n",
       "      <td>1000.0</td>\n",
       "      <td>[600.0, 1000.0]</td>\n",
       "      <td>[MUST SEE!!!,Like new ! - making space in our ...</td>\n",
       "      <td>[0, 1]</td>\n",
       "      <td>[500, that is a lot lower then i am willing to...</td>\n",
       "      <td>False</td>\n",
       "    </tr>\n",
       "  </tbody>\n",
       "</table>\n",
       "</div>"
      ],
      "text/plain": [
       "                                               Title   Category   Price  \\\n",
       "0  [Verizon Car Charger with Dual Output Micro US...      phone    10.0   \n",
       "1  [Long board custom bilt from the board up, Lon...       bike   200.0   \n",
       "2  [A 4 bedroom single family house for rent in c...    housing  3200.0   \n",
       "3                 [Sectional Couch, Sectional Couch]  furniture   585.0   \n",
       "4   [Beautiful Cherry Hutch, Beautiful Cherry Hutch]  furniture  1000.0   \n",
       "\n",
       "             Target                                        Description  \\\n",
       "0       [7.0, 10.0]  [Charge two devices simultaneously on the go. ...   \n",
       "1    [120.0, 200.0]  [Hey there cl I have a long board for sale pre...   \n",
       "2  [1920.0, 3200.0]  [This is a single family house in an excellent...   \n",
       "3    [444.0, 585.0]  [I am remodeling my space and selling a beauti...   \n",
       "4   [600.0, 1000.0]  [MUST SEE!!!,Like new ! - making space in our ...   \n",
       "\n",
       "                                   Turn  \\\n",
       "0              [0, 1, 0, 1, 0, 1, 0, 1]   \n",
       "1  [0, 1, 0, 1, 0, 1, 0, 1, 0, 1, 0, 1]   \n",
       "2           [0, 1, 0, 1, 0, 1, 0, 1, 0]   \n",
       "3                    [0, 1, 0, 1, 0, 1]   \n",
       "4                                [0, 1]   \n",
       "\n",
       "                                        Conversation  is_seller  \n",
       "0  [Hi, not sure if the charger would work for my...      False  \n",
       "1  [Hi,I am interested in your board!, Hi, do you...      False  \n",
       "2  [i would love to buy , Sure! What's your price...      False  \n",
       "3  [hello, Hi, How old is the couch?, It is pract...      False  \n",
       "4  [500, that is a lot lower then i am willing to...      False  "
      ]
     },
     "execution_count": 13,
     "metadata": {},
     "output_type": "execute_result"
    }
   ],
   "source": [
    "# Define the function to check if the agent is a seller\n",
    "def is_seller(data):\n",
    "    return data['Turn'][0] == 1\n",
    "\n",
    "\n",
    "dataframe['is_seller'] = dataframe.apply(is_seller, axis=1)\n",
    "dataframe.head()"
   ]
  },
  {
   "cell_type": "code",
   "execution_count": 14,
   "id": "25c197ea-bf86-454c-9f25-815b3c2bfde0",
   "metadata": {
    "execution": {
     "iopub.execute_input": "2023-11-02T15:35:13.085753Z",
     "iopub.status.busy": "2023-11-02T15:35:13.085071Z",
     "iopub.status.idle": "2023-11-02T15:35:13.093052Z",
     "shell.execute_reply": "2023-11-02T15:35:13.092671Z",
     "shell.execute_reply.started": "2023-11-02T15:35:13.085728Z"
    }
   },
   "outputs": [
    {
     "data": {
      "text/plain": [
       "False    2984\n",
       "True     2263\n",
       "Name: is_seller, dtype: int64"
      ]
     },
     "execution_count": 14,
     "metadata": {},
     "output_type": "execute_result"
    }
   ],
   "source": [
    "dataframe['is_seller'].value_counts()"
   ]
  },
  {
   "cell_type": "code",
   "execution_count": 15,
   "id": "750c73c5-cc66-4088-9ebc-1e928895d308",
   "metadata": {
    "execution": {
     "iopub.execute_input": "2023-11-02T15:35:16.319568Z",
     "iopub.status.busy": "2023-11-02T15:35:16.318775Z",
     "iopub.status.idle": "2023-11-02T15:35:16.339120Z",
     "shell.execute_reply": "2023-11-02T15:35:16.338553Z",
     "shell.execute_reply.started": "2023-11-02T15:35:16.319542Z"
    }
   },
   "outputs": [
    {
     "data": {
      "text/html": [
       "<div>\n",
       "<style scoped>\n",
       "    .dataframe tbody tr th:only-of-type {\n",
       "        vertical-align: middle;\n",
       "    }\n",
       "\n",
       "    .dataframe tbody tr th {\n",
       "        vertical-align: top;\n",
       "    }\n",
       "\n",
       "    .dataframe thead th {\n",
       "        text-align: right;\n",
       "    }\n",
       "</style>\n",
       "<table border=\"1\" class=\"dataframe\">\n",
       "  <thead>\n",
       "    <tr style=\"text-align: right;\">\n",
       "      <th></th>\n",
       "      <th>Title</th>\n",
       "      <th>Category</th>\n",
       "      <th>Price</th>\n",
       "      <th>Target</th>\n",
       "      <th>Description</th>\n",
       "      <th>Turn</th>\n",
       "      <th>Conversation</th>\n",
       "      <th>is_seller</th>\n",
       "    </tr>\n",
       "  </thead>\n",
       "  <tbody>\n",
       "    <tr>\n",
       "      <th>5</th>\n",
       "      <td>[Office Client Waiting Room CHAIRS, Office Cli...</td>\n",
       "      <td>furniture</td>\n",
       "      <td>18.0</td>\n",
       "      <td>[10.0, 18.0]</td>\n",
       "      <td>[Still sturdy and good, average condition. Som...</td>\n",
       "      <td>[1, 0, 1, 0, 1, 0]</td>\n",
       "      <td>[Hi, $15 sound good?, Can you come down a litt...</td>\n",
       "      <td>True</td>\n",
       "    </tr>\n",
       "    <tr>\n",
       "      <th>7</th>\n",
       "      <td>[Beautiful Renovated Studio with Balcony by La...</td>\n",
       "      <td>housing</td>\n",
       "      <td>1895.0</td>\n",
       "      <td>[1743.0, 1895.0]</td>\n",
       "      <td>[This beautiful remodeled studio offers:,Refin...</td>\n",
       "      <td>[1, 0, 1, 0]</td>\n",
       "      <td>[Hello, I offer $500 for this studio., I accep...</td>\n",
       "      <td>True</td>\n",
       "    </tr>\n",
       "    <tr>\n",
       "      <th>8</th>\n",
       "      <td>[2007 Mazda cx-9, 2007 Mazda cx-9]</td>\n",
       "      <td>car</td>\n",
       "      <td>8800.0</td>\n",
       "      <td>[6688.0, 8800.0]</td>\n",
       "      <td>[2007 Mazda cx-9 2wheel drive. Truck has 138k ...</td>\n",
       "      <td>[1, 0, 1]</td>\n",
       "      <td>[Good Days!, , ]</td>\n",
       "      <td>True</td>\n",
       "    </tr>\n",
       "    <tr>\n",
       "      <th>10</th>\n",
       "      <td>[BLU R1 HD - 16 GB, BLU R1 HD - 16 GB]</td>\n",
       "      <td>phone</td>\n",
       "      <td>50.0</td>\n",
       "      <td>[38.0, 50.0]</td>\n",
       "      <td>[BLU R1 HD - 16 GB - Black - Amazon Prime Excl...</td>\n",
       "      <td>[1, 0]</td>\n",
       "      <td>[, Did you have the item for a while? ]</td>\n",
       "      <td>True</td>\n",
       "    </tr>\n",
       "    <tr>\n",
       "      <th>12</th>\n",
       "      <td>[Unlocked Brand New Apple iphone 7 Plus 128GB ...</td>\n",
       "      <td>phone</td>\n",
       "      <td>780.0</td>\n",
       "      <td>[717.0, 780.0]</td>\n",
       "      <td>[We have rose gold, matte black and gold color...</td>\n",
       "      <td>[1, 0, 1, 0, 1, 0, 1, 0, 1]</td>\n",
       "      <td>[hi, Good afternoon, Brand new phone, still in...</td>\n",
       "      <td>True</td>\n",
       "    </tr>\n",
       "    <tr>\n",
       "      <th>...</th>\n",
       "      <td>...</td>\n",
       "      <td>...</td>\n",
       "      <td>...</td>\n",
       "      <td>...</td>\n",
       "      <td>...</td>\n",
       "      <td>...</td>\n",
       "      <td>...</td>\n",
       "      <td>...</td>\n",
       "    </tr>\n",
       "    <tr>\n",
       "      <th>5225</th>\n",
       "      <td>[Antique Oak Accent Table, Antique Oak Accent ...</td>\n",
       "      <td>furniture</td>\n",
       "      <td>60.0</td>\n",
       "      <td>[54.0, 60.0]</td>\n",
       "      <td>[This beautiful antique oak parlor table dates...</td>\n",
       "      <td>[1, 0, 1, 0, 1, 0, 1, 0, 1, 0]</td>\n",
       "      <td>[Hello. How are you?, Hi, I am interested in t...</td>\n",
       "      <td>True</td>\n",
       "    </tr>\n",
       "    <tr>\n",
       "      <th>5226</th>\n",
       "      <td>[Pair of Mid Century Lamps, Pair of Mid Centur...</td>\n",
       "      <td>furniture</td>\n",
       "      <td>40.0</td>\n",
       "      <td>[20.0, 40.0]</td>\n",
       "      <td>[Selling a pair of Mid Century lamps with orig...</td>\n",
       "      <td>[1, 0, 1, 0, 1, 0, 1]</td>\n",
       "      <td>[HI!  How are you?, Hi! Im very interested in ...</td>\n",
       "      <td>True</td>\n",
       "    </tr>\n",
       "    <tr>\n",
       "      <th>5230</th>\n",
       "      <td>[*** New Straight Talk Moto E 3G Android Prepa...</td>\n",
       "      <td>phone</td>\n",
       "      <td>60.0</td>\n",
       "      <td>[30.0, 60.0]</td>\n",
       "      <td>[New Straight Talk Moto E 3G Android Prepaid S...</td>\n",
       "      <td>[1, 0, 1, 0, 1, 0, 1, 0, 1, 0]</td>\n",
       "      <td>[Hello there, Hi! Im wanting your Talk Moto 3G...</td>\n",
       "      <td>True</td>\n",
       "    </tr>\n",
       "    <tr>\n",
       "      <th>5234</th>\n",
       "      <td>[Land Rover discovery SE series 2, Land Rover ...</td>\n",
       "      <td>car</td>\n",
       "      <td>3000.0</td>\n",
       "      <td>[1500.0, 3000.0]</td>\n",
       "      <td>[For sale a 2001 Land Rover discovery series 2...</td>\n",
       "      <td>[1, 0, 1, 0, 1, 0, 1, 0, 1, 0, 1, 0]</td>\n",
       "      <td>[Hello! Are you interested in my wonderful lan...</td>\n",
       "      <td>True</td>\n",
       "    </tr>\n",
       "    <tr>\n",
       "      <th>5246</th>\n",
       "      <td>[2414 Telegraph, Studio,Building Has Style,  H...</td>\n",
       "      <td>housing</td>\n",
       "      <td>2025.0</td>\n",
       "      <td>[1012.0, 2025.0]</td>\n",
       "      <td>[Year lease,Cats Allowed (Extra deposit may be...</td>\n",
       "      <td>[1, 0, 1, 0, 1, 0, 1, 0, 1, 0, 1]</td>\n",
       "      <td>[Hi there. Are you interested in the place?, Y...</td>\n",
       "      <td>True</td>\n",
       "    </tr>\n",
       "  </tbody>\n",
       "</table>\n",
       "<p>2263 rows × 8 columns</p>\n",
       "</div>"
      ],
      "text/plain": [
       "                                                  Title   Category   Price  \\\n",
       "5     [Office Client Waiting Room CHAIRS, Office Cli...  furniture    18.0   \n",
       "7     [Beautiful Renovated Studio with Balcony by La...    housing  1895.0   \n",
       "8                    [2007 Mazda cx-9, 2007 Mazda cx-9]        car  8800.0   \n",
       "10               [BLU R1 HD - 16 GB, BLU R1 HD - 16 GB]      phone    50.0   \n",
       "12    [Unlocked Brand New Apple iphone 7 Plus 128GB ...      phone   780.0   \n",
       "...                                                 ...        ...     ...   \n",
       "5225  [Antique Oak Accent Table, Antique Oak Accent ...  furniture    60.0   \n",
       "5226  [Pair of Mid Century Lamps, Pair of Mid Centur...  furniture    40.0   \n",
       "5230  [*** New Straight Talk Moto E 3G Android Prepa...      phone    60.0   \n",
       "5234  [Land Rover discovery SE series 2, Land Rover ...        car  3000.0   \n",
       "5246  [2414 Telegraph, Studio,Building Has Style,  H...    housing  2025.0   \n",
       "\n",
       "                Target                                        Description  \\\n",
       "5         [10.0, 18.0]  [Still sturdy and good, average condition. Som...   \n",
       "7     [1743.0, 1895.0]  [This beautiful remodeled studio offers:,Refin...   \n",
       "8     [6688.0, 8800.0]  [2007 Mazda cx-9 2wheel drive. Truck has 138k ...   \n",
       "10        [38.0, 50.0]  [BLU R1 HD - 16 GB - Black - Amazon Prime Excl...   \n",
       "12      [717.0, 780.0]  [We have rose gold, matte black and gold color...   \n",
       "...                ...                                                ...   \n",
       "5225      [54.0, 60.0]  [This beautiful antique oak parlor table dates...   \n",
       "5226      [20.0, 40.0]  [Selling a pair of Mid Century lamps with orig...   \n",
       "5230      [30.0, 60.0]  [New Straight Talk Moto E 3G Android Prepaid S...   \n",
       "5234  [1500.0, 3000.0]  [For sale a 2001 Land Rover discovery series 2...   \n",
       "5246  [1012.0, 2025.0]  [Year lease,Cats Allowed (Extra deposit may be...   \n",
       "\n",
       "                                      Turn  \\\n",
       "5                       [1, 0, 1, 0, 1, 0]   \n",
       "7                             [1, 0, 1, 0]   \n",
       "8                                [1, 0, 1]   \n",
       "10                                  [1, 0]   \n",
       "12             [1, 0, 1, 0, 1, 0, 1, 0, 1]   \n",
       "...                                    ...   \n",
       "5225        [1, 0, 1, 0, 1, 0, 1, 0, 1, 0]   \n",
       "5226                 [1, 0, 1, 0, 1, 0, 1]   \n",
       "5230        [1, 0, 1, 0, 1, 0, 1, 0, 1, 0]   \n",
       "5234  [1, 0, 1, 0, 1, 0, 1, 0, 1, 0, 1, 0]   \n",
       "5246     [1, 0, 1, 0, 1, 0, 1, 0, 1, 0, 1]   \n",
       "\n",
       "                                           Conversation  is_seller  \n",
       "5     [Hi, $15 sound good?, Can you come down a litt...       True  \n",
       "7     [Hello, I offer $500 for this studio., I accep...       True  \n",
       "8                                      [Good Days!, , ]       True  \n",
       "10              [, Did you have the item for a while? ]       True  \n",
       "12    [hi, Good afternoon, Brand new phone, still in...       True  \n",
       "...                                                 ...        ...  \n",
       "5225  [Hello. How are you?, Hi, I am interested in t...       True  \n",
       "5226  [HI!  How are you?, Hi! Im very interested in ...       True  \n",
       "5230  [Hello there, Hi! Im wanting your Talk Moto 3G...       True  \n",
       "5234  [Hello! Are you interested in my wonderful lan...       True  \n",
       "5246  [Hi there. Are you interested in the place?, Y...       True  \n",
       "\n",
       "[2263 rows x 8 columns]"
      ]
     },
     "execution_count": 15,
     "metadata": {},
     "output_type": "execute_result"
    }
   ],
   "source": [
    "#print dataframe where is_seller is True\n",
    "dataframe[dataframe['is_seller'] == True]"
   ]
  },
  {
   "cell_type": "code",
   "execution_count": 34,
   "id": "a000acc7-452d-42ae-87c1-4d65d7399662",
   "metadata": {
    "execution": {
     "iopub.execute_input": "2023-11-02T15:38:11.539177Z",
     "iopub.status.busy": "2023-11-02T15:38:11.538919Z",
     "iopub.status.idle": "2023-11-02T15:38:11.544851Z",
     "shell.execute_reply": "2023-11-02T15:38:11.544221Z",
     "shell.execute_reply.started": "2023-11-02T15:38:11.539159Z"
    }
   },
   "outputs": [],
   "source": [
    "\n",
    "\n",
    "# Define the function to convert data to a string prompt\n",
    "def convert_data_to_prompt(data):\n",
    "    # Extract conversation and item details\n",
    "    conversation = data['Conversation']\n",
    "    turns = data['Turn']\n",
    "    list_of_prompts = []\n",
    "    temp_df = pd.DataFrame(columns=['input', 'output'])\n",
    "    # Initialize the prompt as an empty string\n",
    "    input_prompt = \"\"\" \"\"\"\n",
    "\n",
    "\n",
    "\n",
    "    # Append item details to the prompt\n",
    "    category = data['Category']\n",
    "    price = data['Price']\n",
    "    target = data['Target']\n",
    "    description = data['Description'][0]\n",
    "    title = data['Title'][0]\n",
    "    \n",
    "\n",
    "    input_prompt += f\"Category: {category}, \"\n",
    "    input_prompt += f\"Price: {price},\"\n",
    "    input_prompt += f\"Target: {target}, \"\n",
    "    input_prompt += f\"Title: {title}, \"\n",
    "    input_prompt += f\"Description: {description}  \"\n",
    "    \n",
    "    \n",
    "    \n",
    "    # Append conversation to the prompt\n",
    "    for turn, dialogue in zip(turns, conversation):\n",
    "        output_prompt = \"\"\n",
    "        if turn == 0:\n",
    "            input_prompt += f\"buyer: {dialogue} \"\n",
    "            \n",
    "        else:\n",
    "            output_prompt += f\"{dialogue} \"\n",
    "            \n",
    "            temp_df = temp_df.append({'input': input_prompt, 'output': output_prompt}, ignore_index=True)\n",
    "            input_prompt += f\"seller: {dialogue} \"\n",
    "\n",
    "    return temp_df\n",
    "\n",
    "\n"
   ]
  },
  {
   "cell_type": "code",
   "execution_count": 35,
   "id": "74eb7f0c-6e46-442e-9abe-e48adcdcfd09",
   "metadata": {
    "execution": {
     "iopub.execute_input": "2023-11-02T15:38:14.426686Z",
     "iopub.status.busy": "2023-11-02T15:38:14.426401Z",
     "iopub.status.idle": "2023-11-02T15:38:14.434715Z",
     "shell.execute_reply": "2023-11-02T15:38:14.434012Z",
     "shell.execute_reply.started": "2023-11-02T15:38:14.426664Z"
    }
   },
   "outputs": [],
   "source": [
    "x = convert_data_to_prompt(dataframe.iloc[99])"
   ]
  },
  {
   "cell_type": "code",
   "execution_count": 36,
   "id": "2828c038-456f-4066-ae1a-b9f5786971b5",
   "metadata": {
    "execution": {
     "iopub.execute_input": "2023-11-02T15:38:15.643339Z",
     "iopub.status.busy": "2023-11-02T15:38:15.643071Z",
     "iopub.status.idle": "2023-11-02T15:38:15.648416Z",
     "shell.execute_reply": "2023-11-02T15:38:15.647765Z",
     "shell.execute_reply.started": "2023-11-02T15:38:15.643319Z"
    }
   },
   "outputs": [
    {
     "data": {
      "text/plain": [
       "['None',\n",
       " \"Hi. This apartment looks pretty good. Can we go lower than the advertised price? I'm thinking around 715 per month\",\n",
       " \"It's a car that I'm selling for 4400\",\n",
       " 'Interesting. My advertisement is for an apartment.  I can go with 4400 for the car. ',\n",
       " '']"
      ]
     },
     "execution_count": 36,
     "metadata": {},
     "output_type": "execute_result"
    }
   ],
   "source": [
    "dataframe.iloc[99]['Conversation']"
   ]
  },
  {
   "cell_type": "code",
   "execution_count": 37,
   "id": "37002288-627b-45bb-a3a3-1f3f89c89da8",
   "metadata": {
    "execution": {
     "iopub.execute_input": "2023-11-02T15:38:16.369124Z",
     "iopub.status.busy": "2023-11-02T15:38:16.368780Z",
     "iopub.status.idle": "2023-11-02T15:38:16.375001Z",
     "shell.execute_reply": "2023-11-02T15:38:16.374428Z",
     "shell.execute_reply.started": "2023-11-02T15:38:16.369100Z"
    }
   },
   "outputs": [
    {
     "data": {
      "text/plain": [
       "[1, 0, 1, 0, 1]"
      ]
     },
     "execution_count": 37,
     "metadata": {},
     "output_type": "execute_result"
    }
   ],
   "source": [
    "dataframe.iloc[99]['Turn']"
   ]
  },
  {
   "cell_type": "code",
   "execution_count": 38,
   "id": "b9c03c7e-b83b-4fbe-87c8-de192ba6c622",
   "metadata": {
    "execution": {
     "iopub.execute_input": "2023-11-02T15:38:17.339951Z",
     "iopub.status.busy": "2023-11-02T15:38:17.339652Z",
     "iopub.status.idle": "2023-11-02T15:38:17.346559Z",
     "shell.execute_reply": "2023-11-02T15:38:17.345907Z",
     "shell.execute_reply.started": "2023-11-02T15:38:17.339931Z"
    }
   },
   "outputs": [
    {
     "data": {
      "text/html": [
       "<div>\n",
       "<style scoped>\n",
       "    .dataframe tbody tr th:only-of-type {\n",
       "        vertical-align: middle;\n",
       "    }\n",
       "\n",
       "    .dataframe tbody tr th {\n",
       "        vertical-align: top;\n",
       "    }\n",
       "\n",
       "    .dataframe thead th {\n",
       "        text-align: right;\n",
       "    }\n",
       "</style>\n",
       "<table border=\"1\" class=\"dataframe\">\n",
       "  <thead>\n",
       "    <tr style=\"text-align: right;\">\n",
       "      <th></th>\n",
       "      <th>input</th>\n",
       "      <th>output</th>\n",
       "    </tr>\n",
       "  </thead>\n",
       "  <tbody>\n",
       "    <tr>\n",
       "      <th>0</th>\n",
       "      <td>Category: housing, Price: 946.0,Target: [718....</td>\n",
       "      <td>None</td>\n",
       "    </tr>\n",
       "    <tr>\n",
       "      <th>1</th>\n",
       "      <td>Category: housing, Price: 946.0,Target: [718....</td>\n",
       "      <td>It's a car that I'm selling for 4400</td>\n",
       "    </tr>\n",
       "    <tr>\n",
       "      <th>2</th>\n",
       "      <td>Category: housing, Price: 946.0,Target: [718....</td>\n",
       "      <td></td>\n",
       "    </tr>\n",
       "  </tbody>\n",
       "</table>\n",
       "</div>"
      ],
      "text/plain": [
       "                                               input  \\\n",
       "0   Category: housing, Price: 946.0,Target: [718....   \n",
       "1   Category: housing, Price: 946.0,Target: [718....   \n",
       "2   Category: housing, Price: 946.0,Target: [718....   \n",
       "\n",
       "                                  output  \n",
       "0                                  None   \n",
       "1  It's a car that I'm selling for 4400   \n",
       "2                                         "
      ]
     },
     "execution_count": 38,
     "metadata": {},
     "output_type": "execute_result"
    }
   ],
   "source": [
    "x"
   ]
  },
  {
   "cell_type": "code",
   "execution_count": 39,
   "id": "23af9254-8e8c-440f-a2bb-d271216287db",
   "metadata": {
    "execution": {
     "iopub.execute_input": "2023-11-02T15:38:23.222581Z",
     "iopub.status.busy": "2023-11-02T15:38:23.222319Z",
     "iopub.status.idle": "2023-11-02T15:38:23.227274Z",
     "shell.execute_reply": "2023-11-02T15:38:23.226665Z",
     "shell.execute_reply.started": "2023-11-02T15:38:23.222563Z"
    }
   },
   "outputs": [],
   "source": [
    "final_df = pd.DataFrame(columns=['input', 'output'])"
   ]
  },
  {
   "cell_type": "code",
   "execution_count": 40,
   "id": "af7ce5fa-5bfd-4742-9784-232a80c36b82",
   "metadata": {
    "execution": {
     "iopub.execute_input": "2023-11-02T15:38:24.862409Z",
     "iopub.status.busy": "2023-11-02T15:38:24.862141Z",
     "iopub.status.idle": "2023-11-02T15:38:44.274689Z",
     "shell.execute_reply": "2023-11-02T15:38:44.274159Z",
     "shell.execute_reply.started": "2023-11-02T15:38:24.862390Z"
    }
   },
   "outputs": [
    {
     "data": {
      "text/html": [
       "<div>\n",
       "<style scoped>\n",
       "    .dataframe tbody tr th:only-of-type {\n",
       "        vertical-align: middle;\n",
       "    }\n",
       "\n",
       "    .dataframe tbody tr th {\n",
       "        vertical-align: top;\n",
       "    }\n",
       "\n",
       "    .dataframe thead th {\n",
       "        text-align: right;\n",
       "    }\n",
       "</style>\n",
       "<table border=\"1\" class=\"dataframe\">\n",
       "  <thead>\n",
       "    <tr style=\"text-align: right;\">\n",
       "      <th></th>\n",
       "      <th>input</th>\n",
       "      <th>output</th>\n",
       "    </tr>\n",
       "  </thead>\n",
       "  <tbody>\n",
       "    <tr>\n",
       "      <th>0</th>\n",
       "      <td>Category: phone, Price: 10.0,Target: [7.0, 10...</td>\n",
       "      <td>It will work, i have never seen a car without ...</td>\n",
       "    </tr>\n",
       "    <tr>\n",
       "      <th>1</th>\n",
       "      <td>Category: phone, Price: 10.0,Target: [7.0, 10...</td>\n",
       "      <td>I think the lowest I would want to go is 8.</td>\n",
       "    </tr>\n",
       "    <tr>\n",
       "      <th>2</th>\n",
       "      <td>Category: phone, Price: 10.0,Target: [7.0, 10...</td>\n",
       "      <td>7, and we have a deal.</td>\n",
       "    </tr>\n",
       "    <tr>\n",
       "      <th>3</th>\n",
       "      <td>Category: phone, Price: 10.0,Target: [7.0, 10...</td>\n",
       "      <td></td>\n",
       "    </tr>\n",
       "    <tr>\n",
       "      <th>4</th>\n",
       "      <td>Category: bike, Price: 200.0,Target: [120.0, ...</td>\n",
       "      <td>Hi, do you have any questions?</td>\n",
       "    </tr>\n",
       "    <tr>\n",
       "      <th>...</th>\n",
       "      <td>...</td>\n",
       "      <td>...</td>\n",
       "    </tr>\n",
       "    <tr>\n",
       "      <th>21545</th>\n",
       "      <td>Category: housing, Price: 2025.0,Target: [101...</td>\n",
       "      <td>2 bed, one bath studio</td>\n",
       "    </tr>\n",
       "    <tr>\n",
       "      <th>21546</th>\n",
       "      <td>Category: housing, Price: 2025.0,Target: [101...</td>\n",
       "      <td>The listing price is $2025, and I was told by ...</td>\n",
       "    </tr>\n",
       "    <tr>\n",
       "      <th>21547</th>\n",
       "      <td>Category: housing, Price: 2025.0,Target: [101...</td>\n",
       "      <td>Yes, you can use the other room as a bedroom. ...</td>\n",
       "    </tr>\n",
       "    <tr>\n",
       "      <th>21548</th>\n",
       "      <td>Category: housing, Price: 2025.0,Target: [101...</td>\n",
       "      <td>1800 and we'll have a deal. I could give you a...</td>\n",
       "    </tr>\n",
       "    <tr>\n",
       "      <th>21549</th>\n",
       "      <td>Category: housing, Price: 2025.0,Target: [101...</td>\n",
       "      <td></td>\n",
       "    </tr>\n",
       "  </tbody>\n",
       "</table>\n",
       "<p>21550 rows × 2 columns</p>\n",
       "</div>"
      ],
      "text/plain": [
       "                                                   input  \\\n",
       "0       Category: phone, Price: 10.0,Target: [7.0, 10...   \n",
       "1       Category: phone, Price: 10.0,Target: [7.0, 10...   \n",
       "2       Category: phone, Price: 10.0,Target: [7.0, 10...   \n",
       "3       Category: phone, Price: 10.0,Target: [7.0, 10...   \n",
       "4       Category: bike, Price: 200.0,Target: [120.0, ...   \n",
       "...                                                  ...   \n",
       "21545   Category: housing, Price: 2025.0,Target: [101...   \n",
       "21546   Category: housing, Price: 2025.0,Target: [101...   \n",
       "21547   Category: housing, Price: 2025.0,Target: [101...   \n",
       "21548   Category: housing, Price: 2025.0,Target: [101...   \n",
       "21549   Category: housing, Price: 2025.0,Target: [101...   \n",
       "\n",
       "                                                  output  \n",
       "0      It will work, i have never seen a car without ...  \n",
       "1          I think the lowest I would want to go is 8.    \n",
       "2                                7, and we have a deal.   \n",
       "3                                                         \n",
       "4                        Hi, do you have any questions?   \n",
       "...                                                  ...  \n",
       "21545                            2 bed, one bath studio   \n",
       "21546  The listing price is $2025, and I was told by ...  \n",
       "21547  Yes, you can use the other room as a bedroom. ...  \n",
       "21548  1800 and we'll have a deal. I could give you a...  \n",
       "21549                                                     \n",
       "\n",
       "[21550 rows x 2 columns]"
      ]
     },
     "execution_count": 40,
     "metadata": {},
     "output_type": "execute_result"
    }
   ],
   "source": [
    "for index in range(dataframe.shape[0]):\n",
    "    final_df = final_df.append(convert_data_to_prompt(dataframe.iloc[index]), ignore_index=True)\n",
    "\n",
    "final_df"
   ]
  },
  {
   "cell_type": "code",
   "execution_count": 53,
   "id": "4b55e0fe-424f-434c-a2a8-173cdf896395",
   "metadata": {},
   "outputs": [
    {
     "data": {
      "text/plain": [
       "(2501, 2)"
      ]
     },
     "execution_count": 53,
     "metadata": {},
     "output_type": "execute_result"
    }
   ],
   "source": [
    "#check empty rows in output column\n",
    "final_df[final_df['output']==' ' ].shape\n",
    "\n"
   ]
  },
  {
   "cell_type": "code",
   "execution_count": 54,
   "id": "725c1769-195b-4a11-a112-502ccfa22491",
   "metadata": {},
   "outputs": [],
   "source": [
    "#remove rows contains \" \"\n",
    "final_df = final_df[final_df['output'] != ' ']"
   ]
  },
  {
   "cell_type": "code",
   "execution_count": 55,
   "id": "cdf22ade-75ac-4943-8506-508503ce773a",
   "metadata": {},
   "outputs": [
    {
     "data": {
      "text/html": [
       "<div>\n",
       "<style scoped>\n",
       "    .dataframe tbody tr th:only-of-type {\n",
       "        vertical-align: middle;\n",
       "    }\n",
       "\n",
       "    .dataframe tbody tr th {\n",
       "        vertical-align: top;\n",
       "    }\n",
       "\n",
       "    .dataframe thead th {\n",
       "        text-align: right;\n",
       "    }\n",
       "</style>\n",
       "<table border=\"1\" class=\"dataframe\">\n",
       "  <thead>\n",
       "    <tr style=\"text-align: right;\">\n",
       "      <th></th>\n",
       "      <th>input</th>\n",
       "      <th>output</th>\n",
       "    </tr>\n",
       "  </thead>\n",
       "  <tbody>\n",
       "    <tr>\n",
       "      <th>0</th>\n",
       "      <td>Category: phone, Price: 10.0,Target: [7.0, 10...</td>\n",
       "      <td>It will work, i have never seen a car without ...</td>\n",
       "    </tr>\n",
       "    <tr>\n",
       "      <th>1</th>\n",
       "      <td>Category: phone, Price: 10.0,Target: [7.0, 10...</td>\n",
       "      <td>I think the lowest I would want to go is 8.</td>\n",
       "    </tr>\n",
       "    <tr>\n",
       "      <th>2</th>\n",
       "      <td>Category: phone, Price: 10.0,Target: [7.0, 10...</td>\n",
       "      <td>7, and we have a deal.</td>\n",
       "    </tr>\n",
       "    <tr>\n",
       "      <th>4</th>\n",
       "      <td>Category: bike, Price: 200.0,Target: [120.0, ...</td>\n",
       "      <td>Hi, do you have any questions?</td>\n",
       "    </tr>\n",
       "    <tr>\n",
       "      <th>5</th>\n",
       "      <td>Category: bike, Price: 200.0,Target: [120.0, ...</td>\n",
       "      <td>I do not know specifically but the brand is a ...</td>\n",
       "    </tr>\n",
       "    <tr>\n",
       "      <th>...</th>\n",
       "      <td>...</td>\n",
       "      <td>...</td>\n",
       "    </tr>\n",
       "    <tr>\n",
       "      <th>21544</th>\n",
       "      <td>Category: housing, Price: 2025.0,Target: [101...</td>\n",
       "      <td>Hi there. Are you interested in the place?</td>\n",
       "    </tr>\n",
       "    <tr>\n",
       "      <th>21545</th>\n",
       "      <td>Category: housing, Price: 2025.0,Target: [101...</td>\n",
       "      <td>2 bed, one bath studio</td>\n",
       "    </tr>\n",
       "    <tr>\n",
       "      <th>21546</th>\n",
       "      <td>Category: housing, Price: 2025.0,Target: [101...</td>\n",
       "      <td>The listing price is $2025, and I was told by ...</td>\n",
       "    </tr>\n",
       "    <tr>\n",
       "      <th>21547</th>\n",
       "      <td>Category: housing, Price: 2025.0,Target: [101...</td>\n",
       "      <td>Yes, you can use the other room as a bedroom. ...</td>\n",
       "    </tr>\n",
       "    <tr>\n",
       "      <th>21548</th>\n",
       "      <td>Category: housing, Price: 2025.0,Target: [101...</td>\n",
       "      <td>1800 and we'll have a deal. I could give you a...</td>\n",
       "    </tr>\n",
       "  </tbody>\n",
       "</table>\n",
       "<p>19049 rows × 2 columns</p>\n",
       "</div>"
      ],
      "text/plain": [
       "                                                   input  \\\n",
       "0       Category: phone, Price: 10.0,Target: [7.0, 10...   \n",
       "1       Category: phone, Price: 10.0,Target: [7.0, 10...   \n",
       "2       Category: phone, Price: 10.0,Target: [7.0, 10...   \n",
       "4       Category: bike, Price: 200.0,Target: [120.0, ...   \n",
       "5       Category: bike, Price: 200.0,Target: [120.0, ...   \n",
       "...                                                  ...   \n",
       "21544   Category: housing, Price: 2025.0,Target: [101...   \n",
       "21545   Category: housing, Price: 2025.0,Target: [101...   \n",
       "21546   Category: housing, Price: 2025.0,Target: [101...   \n",
       "21547   Category: housing, Price: 2025.0,Target: [101...   \n",
       "21548   Category: housing, Price: 2025.0,Target: [101...   \n",
       "\n",
       "                                                  output  \n",
       "0      It will work, i have never seen a car without ...  \n",
       "1          I think the lowest I would want to go is 8.    \n",
       "2                                7, and we have a deal.   \n",
       "4                        Hi, do you have any questions?   \n",
       "5      I do not know specifically but the brand is a ...  \n",
       "...                                                  ...  \n",
       "21544        Hi there. Are you interested in the place?   \n",
       "21545                            2 bed, one bath studio   \n",
       "21546  The listing price is $2025, and I was told by ...  \n",
       "21547  Yes, you can use the other room as a bedroom. ...  \n",
       "21548  1800 and we'll have a deal. I could give you a...  \n",
       "\n",
       "[19049 rows x 2 columns]"
      ]
     },
     "execution_count": 55,
     "metadata": {},
     "output_type": "execute_result"
    }
   ],
   "source": [
    "final_df"
   ]
  },
  {
   "cell_type": "code",
   "execution_count": 56,
   "id": "ebf92ff8-66b8-4e43-a0ab-bbf821a6d39f",
   "metadata": {
    "tags": []
   },
   "outputs": [],
   "source": [
    "final_df.to_csv('prompts.csv')"
   ]
  },
  {
   "cell_type": "code",
   "execution_count": null,
   "id": "06d393d4-a12a-41b3-b09f-b437029a903f",
   "metadata": {},
   "outputs": [],
   "source": []
  }
 ],
 "metadata": {
  "kernelspec": {
   "display_name": "Python 3 (ipykernel)",
   "language": "python",
   "name": "python3"
  },
  "language_info": {
   "codemirror_mode": {
    "name": "ipython",
    "version": 3
   },
   "file_extension": ".py",
   "mimetype": "text/x-python",
   "name": "python",
   "nbconvert_exporter": "python",
   "pygments_lexer": "ipython3",
   "version": "3.9.16"
  }
 },
 "nbformat": 4,
 "nbformat_minor": 5
}
